{
  "nbformat": 4,
  "nbformat_minor": 0,
  "metadata": {
    "colab": {
      "provenance": []
    },
    "kernelspec": {
      "name": "python3",
      "display_name": "Python 3"
    },
    "language_info": {
      "name": "python"
    }
  },
  "cells": [
    {
      "cell_type": "code",
      "execution_count": null,
      "metadata": {
        "colab": {
          "base_uri": "https://localhost:8080/",
          "height": 1000
        },
        "id": "H7jdSUh1_Wyh",
        "outputId": "ff4ce586-96d9-4f6a-a5e5-7c0db45df2ad"
      },
      "outputs": [
        {
          "metadata": {
            "tags": null
          },
          "name": "stdout",
          "output_type": "stream",
          "text": [
            "Dataset Preview:\n",
            "    message_length  response_time  case_type\n",
            "0             106             29  technical\n",
            "1             220             18    general\n",
            "2             356             44    general\n",
            "3             341              8    general\n",
            "4             294             31    billing\n",
            "\n",
            "Model Evaluation:\n",
            "               precision    recall  f1-score   support\n",
            "\n",
            "     billing       1.00      1.00      1.00        11\n",
            "     general       1.00      1.00      1.00         5\n",
            "   technical       1.00      1.00      1.00         4\n",
            "\n",
            "    accuracy                           1.00        20\n",
            "   macro avg       1.00      1.00      1.00        20\n",
            "weighted avg       1.00      1.00      1.00        20\n",
            "\n"
          ]
        },
        {
          "data": {
            "image/png": "[encoded data removed]",
            "text/plain": [
              "<Figure size 800x600 with 2 Axes>"
            ]
          },
          "metadata": {},
          "output_type": "display_data"
        },
        {
          "metadata": {
            "tags": null
          },
          "name": "stdout",
          "output_type": "stream",
          "text": [
            "\n",
            "Sample Case Predictions:\n",
            "'Why was I charged twice on my card?' => billing\n",
            "'I'm unable to install the software on my computer.' => technical\n",
            "'What is your customer service email address?' => general\n"
          ]
        }
      ],
      "source": [
        "import pandas as pd\n",
        "import random\n",
        "from sklearn.model_selection import train_test_split\n",
        "from sklearn.feature_extraction.text import TfidfVectorizer\n",
        "from sklearn.pipeline import Pipeline\n",
        "from sklearn.naive_bayes import MultinomialNB\n",
        "from sklearn.metrics import classification_report, confusion_matrix\n",
        "import seaborn as sns\n",
        "import matplotlib.pyplot as plt\n",
        "\n",
        "# Step 1: Load the dataset\n",
        "df = pd.read_csv(\"/content/support_cases.csv\")\n",
        "\n",
        "# Step 2: Show what's inside\n",
        "print(\"Dataset Preview:\\n\", df.head())\n",
        "\n",
        "# Step 3: Create fake message text based on case_type\n",
        "def generate_fake_message(case_type):\n",
        "    if case_type == \"billing\":\n",
        "        return random.choice([\n",
        "            \"I was overcharged this month.\",\n",
        "            \"Need help understanding my invoice.\",\n",
        "            \"I want a refund for the last transaction.\",\n",
        "            \"Why is my card being declined?\",\n",
        "            \"Billing error in the receipt.\"\n",
        "        ])\n",
        "    elif case_type == \"technical\":\n",
        "        return random.choice([\n",
        "            \"App keeps crashing after login.\",\n",
        "            \"Can't reset my password.\",\n",
        "            \"Having trouble connecting to Wi-Fi.\",\n",
        "            \"The software update failed.\",\n",
        "            \"Getting error code 404 while browsing.\"\n",
        "        ])\n",
        "    else:  # general\n",
        "        return random.choice([\n",
        "            \"What are your support hours?\",\n",
        "            \"How do I update my contact details?\",\n",
        "            \"Can I cancel my subscription?\",\n",
        "            \"Need help navigating the dashboard.\",\n",
        "            \"How do I change my settings?\"\n",
        "        ])\n",
        "\n",
        "# Add the fake messages to the dataset\n",
        "df['case_description'] = df['case_type'].apply(generate_fake_message)\n",
        "\n",
        "# Step 4: Split data into training and testing\n",
        "X_train, X_test, y_train, y_test = train_test_split(\n",
        "    df['case_description'],\n",
        "    df['case_type'],\n",
        "    test_size=0.2,\n",
        "    random_state=42\n",
        ")\n",
        "\n",
        "# Step 5: Create a pipeline for TF-IDF + Naive Bayes Classifier\n",
        "pipeline = Pipeline([\n",
        "    ('tfidf', TfidfVectorizer(stop_words='english', max_features=1000)),\n",
        "    ('classifier', MultinomialNB())\n",
        "])\n",
        "\n",
        "# Step 6: Train the model\n",
        "pipeline.fit(X_train, y_train)\n",
        "\n",
        "# Step 7: Evaluate the model\n",
        "y_pred = pipeline.predict(X_test)\n",
        "print(\"\\nModel Evaluation:\\n\", classification_report(y_test, y_pred))\n",
        "\n",
        "# Step 8: Confusion Matrix Visualization\n",
        "cm = confusion_matrix(y_test, y_pred)\n",
        "\n",
        "# Visualize the confusion matrix with a heatmap\n",
        "plt.figure(figsize=(8, 6))\n",
        "sns.heatmap(cm, annot=True, fmt=\"d\", cmap=\"Blues\", xticklabels=df['case_type'].unique(), yticklabels=df['case_type'].unique())\n",
        "plt.xlabel('Predicted')\n",
        "plt.ylabel('Actual')\n",
        "plt.title('Confusion Matrix Heatmap')\n",
        "plt.show()\n",
        "\n",
        "# Step 9: Predict on some example cases\n",
        "sample_cases = [\n",
        "    \"Why was I charged twice on my card?\",\n",
        "    \"I'm unable to install the software on my computer.\",\n",
        "    \"What is your customer service email address?\"\n",
        "]\n",
        "predictions = pipeline.predict(sample_cases)\n",
        "\n",
        "print(\"\\nSample Case Predictions:\")\n",
        "for msg, pred in zip(sample_cases, predictions):\n",
        "    print(f\"'{msg}' => {pred}\")\n",
        "\n",
        "# Step 10: Take user input and predict the case type\n",
        "while True:\n",
        "    user_input = input(\"\\nEnter a support message (or type 'exit' to quit): \")\n",
        "    if user_input.lower() == \"exit\":\n",
        "        print(\"Thank you! Exiting the program.\")\n",
        "        break\n",
        "    result = pipeline.predict([user_input])[0]\n",
        "    print(f\"The case type is likely: {result}\")\n"
      ]
    }
  ]
}